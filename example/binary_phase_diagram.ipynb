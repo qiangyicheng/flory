{
 "cells": [
  {
   "cell_type": "code",
   "execution_count": null,
   "metadata": {},
   "outputs": [],
   "source": [
    "import mcmp\n",
    "import numpy as np\n",
    "import matplotlib.pyplot as plt\n",
    "\n",
    "chi_start = 5.0\n",
    "chi_end = 1.0\n",
    "\n",
    "chis = [[0, 4.0], [4.0, 0]]\n",
    "phi_means = [0.5, 0.5]\n",
    "\n",
    "finder = mcmp.CPFinder(chis, phi_means, 16, progress=False)\n",
    "\n",
    "line_chi = []\n",
    "line_l = []\n",
    "line_h = []\n",
    "chi_ODT = 0.0\n",
    "for chi in np.arange(chi_start, chi_end, -0.1):\n",
    "    chis = chis = [[0, chi], [chi, 0]]\n",
    "    finder.chis = chis\n",
    "    volumes, phis = finder.run()\n",
    "    phi_h = phis[0, 0]\n",
    "    phi_l = phis[0, 1]\n",
    "    if np.abs(phi_l - phi_h) < 1e-3:\n",
    "        chi_ODT = chi\n",
    "        break\n",
    "    line_chi.append(chi)\n",
    "    line_l.append(phi_l)\n",
    "    line_h.append(phi_h)\n",
    "\n",
    "plt.plot(line_l, line_chi)\n",
    "plt.plot(line_h, line_chi)\n",
    "plt.show()"
   ]
  }
 ],
 "metadata": {
  "kernelspec": {
   "display_name": "mm",
   "language": "python",
   "name": "python3"
  },
  "language_info": {
   "codemirror_mode": {
    "name": "ipython",
    "version": 3
   },
   "file_extension": ".py",
   "mimetype": "text/x-python",
   "name": "python",
   "nbconvert_exporter": "python",
   "pygments_lexer": "ipython3",
   "version": "3.11.5"
  }
 },
 "nbformat": 4,
 "nbformat_minor": 2
}
